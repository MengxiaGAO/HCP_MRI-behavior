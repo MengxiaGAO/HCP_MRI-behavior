{
 "cells": [
  {
   "cell_type": "markdown",
   "metadata": {},
   "source": [
    "# Recompute factor scores from item scores (NEO-FFI)"
   ]
  },
  {
   "cell_type": "markdown",
   "metadata": {},
   "source": [
    "location of your csv file with HCP neuropsych scores"
   ]
  },
  {
   "cell_type": "code",
   "execution_count": 1,
   "metadata": {
    "collapsed": true
   },
   "outputs": [],
   "source": [
    "behavFile  = 'PATH_TO_FILE/unrestricted_USERNAME_M_D_YYYY_H_M_S.csv'"
   ]
  },
  {
   "cell_type": "markdown",
   "metadata": {},
   "source": [
    "import modules"
   ]
  },
  {
   "cell_type": "code",
   "execution_count": 2,
   "metadata": {
    "collapsed": true
   },
   "outputs": [],
   "source": [
    "import pandas as pd\n",
    "import numpy as np"
   ]
  },
  {
   "cell_type": "markdown",
   "metadata": {},
   "source": [
    "read csv file, prune unnecessary columns"
   ]
  },
  {
   "cell_type": "code",
   "execution_count": 3,
   "metadata": {
    "collapsed": true
   },
   "outputs": [],
   "source": [
    "df = pd.read_csv(behavFile)\n",
    "df = df[['Subject','NEO-FFI_Compl',\n",
    "        'NEOFAC_O','NEOFAC_C','NEOFAC_E','NEOFAC_A','NEOFAC_N',\n",
    "        'NEORAW_01','NEORAW_02','NEORAW_03','NEORAW_04','NEORAW_05','NEORAW_06','NEORAW_07','NEORAW_08','NEORAW_09','NEORAW_10',\n",
    "        'NEORAW_11','NEORAW_12','NEORAW_13','NEORAW_14','NEORAW_15','NEORAW_16','NEORAW_17','NEORAW_18','NEORAW_19','NEORAW_20',\n",
    "        'NEORAW_21','NEORAW_22','NEORAW_23','NEORAW_24','NEORAW_25','NEORAW_26','NEORAW_27','NEORAW_28','NEORAW_29','NEORAW_30',\n",
    "        'NEORAW_31','NEORAW_32','NEORAW_33','NEORAW_34','NEORAW_35','NEORAW_36','NEORAW_37','NEORAW_38','NEORAW_39','NEORAW_40',\n",
    "        'NEORAW_41','NEORAW_42','NEORAW_43','NEORAW_44','NEORAW_45','NEORAW_46','NEORAW_47','NEORAW_48','NEORAW_49','NEORAW_50',\n",
    "        'NEORAW_51','NEORAW_52','NEORAW_53','NEORAW_54','NEORAW_55','NEORAW_56','NEORAW_57','NEORAW_58','NEORAW_59','NEORAW_60']]"
   ]
  },
  {
   "cell_type": "markdown",
   "metadata": {},
   "source": [
    "item scoring (from NEO-FFI manual)"
   ]
  },
  {
   "cell_type": "code",
   "execution_count": 4,
   "metadata": {
    "collapsed": true
   },
   "outputs": [],
   "source": [
    "factors = ['O','C','E','A','N']\n",
    "scoring = [ \n",
    "    {'13':'n', '23':'r', '43':'n', #aesthetic interests\n",
    "    '48':'r', '53':'n', '58':'n', #intellectual interests\n",
    "    '03':'r', '08':'r', '18':'r', '38':'r', # unconventionality\n",
    "    '28':'n', '33':'r'},#??\n",
    "    {'05':'n', '10':'n', '15':'r', '30':'r', '55':'r', # orderliness\n",
    "    '25':'n', '35':'n', '60':'n', # goal-striving\n",
    "    '20':'n', '40':'n', '45':'r', '50':'n'}, # dependability\n",
    "    {'07':'n', '12':'r', '37':'n', '42':'r', # positive affect\n",
    "   '02':'n', '17':'n', '27':'r', '57':'r', # sociability\n",
    "   '22':'n', '32':'n', '47':'n', '52':'n'}, # activity\n",
    "    {'09':'r', '14':'r', '19':'n', '24':'r', '29':'r', '44':'r', '54':'r', '59':'r', #nonantagonistic orientation\n",
    "   '04':'n', '34':'n', '39':'r', '49':'n'}, # prosocial orientation\n",
    "    {'01':'r', '11':'n', '16':'r', '31':'r', '46':'r', # negative affect\n",
    "   '06':'n', '21':'n', '26':'n', '36':'n', '41':'n', '51':'n', '56':'n'} # self-reproach\n",
    "    ]"
   ]
  },
  {
   "cell_type": "markdown",
   "metadata": {},
   "source": [
    "compute factor scores from items and display difference with existing factor scores"
   ]
  },
  {
   "cell_type": "code",
   "execution_count": 5,
   "metadata": {
    "collapsed": false
   },
   "outputs": [
    {
     "name": "stdout",
     "output_type": "stream",
     "text": [
      "diffO=0, diffC=0, diffE=0, diffA=2682, diffN=0\n"
     ]
    }
   ],
   "source": [
    "diff     = list()\n",
    "for iFac,factor in enumerate(factors):\n",
    "    this       = np.zeros(df.shape[0])\n",
    "    keyCtr = -1\n",
    "    for key in scoring[iFac].keys():\n",
    "        if scoring[iFac][key]=='n':\n",
    "            df['NEORAW_'+key].replace(['SD','D','N','A','SA'],[0,1,2,3,4],inplace=True)\n",
    "        else:\n",
    "            df['NEORAW_'+key].replace(['SD','D','N','A','SA'],[4,3,2,1,0],inplace=True)\n",
    "        this = this + df['NEORAW_'+key]\n",
    "        keyCtr += 1\n",
    "    df['NEOFAC_'+factor+'_calc']=this\n",
    "    diff.append(np.sum(np.abs(df['NEOFAC_'+factor]-df['NEOFAC_'+factor+'_calc'])))\n",
    "print 'diffO={0:d}, diffC={1:d}, diffE={2:d}, diffA={3:d}, diffN={4:d}'.format(\n",
    "    np.int(diff[0]),np.int(diff[1]),np.int(diff[2]),np.int(diff[3]),np.int(diff[4]))\n",
    "       "
   ]
  },
  {
   "cell_type": "code",
   "execution_count": 6,
   "metadata": {
    "collapsed": false
   },
   "outputs": [],
   "source": [
    "df.to_csv('HCP_NEOFFI_Scores.csv')"
   ]
  }
 ],
 "metadata": {
  "kernelspec": {
   "display_name": "Python 2",
   "language": "python",
   "name": "python2"
  },
  "language_info": {
   "codemirror_mode": {
    "name": "ipython",
    "version": 2
   },
   "file_extension": ".py",
   "mimetype": "text/x-python",
   "name": "python",
   "nbconvert_exporter": "python",
   "pygments_lexer": "ipython2",
   "version": "2.7.14"
  }
 },
 "nbformat": 4,
 "nbformat_minor": 2
}
